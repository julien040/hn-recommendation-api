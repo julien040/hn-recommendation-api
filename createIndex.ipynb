{
 "cells": [
  {
   "attachments": {},
   "cell_type": "markdown",
   "metadata": {},
   "source": [
    "# Create HNSW index\n",
    "\n",
    "This notebook creates the index for the data in the `data` folder. The index for the embeddings is a HNSW index made with Faiss.\n",
    "It's then exported to a file called `index.faiss` in the `data` folder.\n",
    "\n",
    "The database use duckDB and is called \"hn.duck\". It's located in the `data` folder.\n",
    "\n",
    "Here is the schema for the table 'story':\n",
    "\n",
    "```\n",
    "┌─────────────┬─────────────┬─────────┬─────────┬─────────┬───────┐\n",
    "│ column_name │ column_type │  null   │   key   │ default │ extra │\n",
    "│   varchar   │   varchar   │ varchar │ varchar │ varchar │ int32 │\n",
    "├─────────────┼─────────────┼─────────┼─────────┼─────────┼───────┤\n",
    "│ id          │ INTEGER     │ NO      │ PRI     │         │       │\n",
    "│ title       │ VARCHAR     │ YES     │         │         │       │\n",
    "│ url         │ VARCHAR     │ YES     │         │         │       │\n",
    "│ score       │ INTEGER     │ YES     │         │         │       │\n",
    "│ time        │ INTEGER     │ YES     │         │         │       │\n",
    "│ comments    │ INTEGER     │ YES     │         │         │       │\n",
    "│ author      │ VARCHAR     │ YES     │         │         │       │\n",
    "│ embeddings  │ FLOAT[]     │ YES     │         │         │       │\n",
    "└─────────────┴─────────────┴─────────┴─────────┴─────────┴───────┘\n",
    "```\n",
    "\n",
    "The embeddings are stored as a float array of size 1536."
   ]
  },
  {
   "attachments": {},
   "cell_type": "markdown",
   "metadata": {},
   "source": [
    "## Code\n",
    "\n",
    "### Imports\n",
    "\n",
    "This notebook uses the following libraries:\n",
    "- [duckdb](https://duckdb.org/) for the database\n",
    "- [faiss](https://github.com/facebookresearch/faiss) for the index\n",
    "- [numpy](https://numpy.org/) for the embeddings\n"
   ]
  },
  {
   "cell_type": "code",
   "execution_count": 22,
   "metadata": {},
   "outputs": [],
   "source": [
    "from faiss import IndexHNSWFlat, IndexIDMap, write_index\n",
    "import duckdb\n",
    "import numpy as np"
   ]
  },
  {
   "attachments": {},
   "cell_type": "markdown",
   "metadata": {},
   "source": [
    "### Data loading"
   ]
  },
  {
   "cell_type": "code",
   "execution_count": 21,
   "metadata": {},
   "outputs": [
    {
     "name": "stdout",
     "output_type": "stream",
     "text": [
      "I have 108477 embeddings loaded from the database\n",
      "I'm now converting the embeddings to a numpy array\n",
      "All data is now in memory\n"
     ]
    }
   ],
   "source": [
    "db = duckdb.connect(database='data/hn.duckdb', read_only=True)\n",
    "\n",
    "\"\"\"\n",
    "embeddings is the dictionnary with 2 keys: id and embeddings\n",
    "\n",
    "embeddings['id'] is a list of ids\n",
    "embeddings['embeddings'] is a list of embeddings\n",
    "\"\"\"\n",
    "\n",
    "# Load the embeddings\n",
    "embeddings = db.execute(\"SELECT id, embeddings FROM story WHERE embeddings IS NOT NULL\").fetchnumpy()\n",
    "print(\"I have %d embeddings loaded from the database\" % len(embeddings[\"id\"]))\n",
    "\n",
    "ids = embeddings['id']\n",
    "embeddingsNP = embeddings['embeddings']\n",
    "print(\"I'm now converting the embeddings to a numpy array\")\n",
    "embeddingsNP = np.stack(embeddingsNP)\n",
    "print(\"All data is now in memory\")\n"
   ]
  },
  {
   "attachments": {},
   "cell_type": "markdown",
   "metadata": {},
   "source": [
    "### Create the index\n",
    "\n",
    "Using FAISS, we create a HNSW index with the embeddings. We use the default parameters."
   ]
  },
  {
   "cell_type": "code",
   "execution_count": 28,
   "metadata": {},
   "outputs": [
    {
     "name": "stdout",
     "output_type": "stream",
     "text": [
      "I'm now creating the index\n",
      "I'm now adding the embeddings to the index\n",
      "I'm now saving the index\n",
      "CPU times: user 3min 42s, sys: 2.4 s, total: 3min 44s\n",
      "Wall time: 32.7 s\n"
     ]
    }
   ],
   "source": [
    "%%time\n",
    "DIMENSION = 1536\n",
    "M = 64\n",
    "efConstruction = 500\n",
    "\n",
    "print(\"I'm now creating the index\")\n",
    "index = IndexHNSWFlat(DIMENSION, M)\n",
    "\n",
    "# We wrap it in a IDMap so we can search by id\n",
    "index = IndexIDMap(index)\n",
    "\n",
    "print(\"I'm now adding the embeddings to the index\")\n",
    "index.add_with_ids(embeddingsNP, ids)\n",
    "\n",
    "print(\"I'm now saving the index\")\n",
    "write_index(index, \"data/index.faiss\")"
   ]
  }
 ],
 "metadata": {
  "kernelspec": {
   "display_name": "faiss-api",
   "language": "python",
   "name": "python3"
  },
  "language_info": {
   "codemirror_mode": {
    "name": "ipython",
    "version": 3
   },
   "file_extension": ".py",
   "mimetype": "text/x-python",
   "name": "python",
   "nbconvert_exporter": "python",
   "pygments_lexer": "ipython3",
   "version": "3.10.11"
  },
  "orig_nbformat": 4
 },
 "nbformat": 4,
 "nbformat_minor": 2
}
